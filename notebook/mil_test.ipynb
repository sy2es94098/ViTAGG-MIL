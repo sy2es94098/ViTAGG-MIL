{
 "cells": [
  {
   "cell_type": "code",
   "execution_count": 8,
   "id": "cf1b3cc3",
   "metadata": {},
   "outputs": [
    {
     "name": "stdout",
     "output_type": "stream",
     "text": [
      "73\n",
      "19\n",
      "166\n"
     ]
    }
   ],
   "source": [
    "from mil.data.datasets import musk1\n",
    "(bags_train, y_train), (bags_test, y_test) = musk1.load()\n",
    "print(len(y_train))\n",
    "print(len(y_test))\n",
    "print(len(bags_test[0][1]))"
   ]
  },
  {
   "cell_type": "code",
   "execution_count": 11,
   "id": "cae8ce36",
   "metadata": {},
   "outputs": [
    {
     "name": "stdout",
     "output_type": "stream",
     "text": [
      "['1']\r\n",
      "Traceback (most recent call last):\r\n",
      "  File \"train_mil.py\", line 193, in <module>\r\n",
      "    main()\r\n",
      "  File \"train_mil.py\", line 130, in main\r\n",
      "    data_all = get_data('datasets/mil_dataset/Musk/musk1.csv')\r\n",
      "  File \"train_mil.py\", line 28, in get_data\r\n",
      "    idb = int(ids[1])\r\n",
      "IndexError: list index out of range\r\n"
     ]
    }
   ],
   "source": [
    "!python train_mil.py --datasets musk1"
   ]
  }
 ],
 "metadata": {
  "kernelspec": {
   "display_name": "Python 3 (ipykernel)",
   "language": "python",
   "name": "python3"
  },
  "language_info": {
   "codemirror_mode": {
    "name": "ipython",
    "version": 3
   },
   "file_extension": ".py",
   "mimetype": "text/x-python",
   "name": "python",
   "nbconvert_exporter": "python",
   "pygments_lexer": "ipython3",
   "version": "3.8.13"
  }
 },
 "nbformat": 4,
 "nbformat_minor": 5
}
