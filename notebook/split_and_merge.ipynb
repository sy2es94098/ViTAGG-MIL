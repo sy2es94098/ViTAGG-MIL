{
 "cells": [
  {
   "cell_type": "code",
   "execution_count": 11,
   "id": "8166beec",
   "metadata": {},
   "outputs": [
    {
     "name": "stdout",
     "output_type": "stream",
     "text": [
      "21556\n",
      "/data3/ian/dsmil-wsi/dsmil-wsi/test_patches/big/test_033\n",
      "/data3/ian/dsmil-wsi/dsmil-wsi/test_patches/big/test_033_1\n",
      "/data3/ian/dsmil-wsi/dsmil-wsi/test_patches/big/test_033_2\n",
      "19654\n",
      "/data3/ian/dsmil-wsi/dsmil-wsi/test_patches/big/test_042\n",
      "/data3/ian/dsmil-wsi/dsmil-wsi/test_patches/big/test_042_1\n",
      "/data3/ian/dsmil-wsi/dsmil-wsi/test_patches/big/test_042_2\n",
      "19505\n",
      "/data3/ian/dsmil-wsi/dsmil-wsi/test_patches/big/test_069\n",
      "/data3/ian/dsmil-wsi/dsmil-wsi/test_patches/big/test_069_1\n",
      "/data3/ian/dsmil-wsi/dsmil-wsi/test_patches/big/test_069_2\n"
     ]
    }
   ],
   "source": [
    "import os\n",
    "import numpy as np\n",
    "import shutil\n",
    "path = '/data3/ian/dsmil-wsi/dsmil-wsi/test_patches/big'\n",
    "dirs = os.listdir(path)\n",
    "for d in dirs:\n",
    "    dirc = os.path.join(path,d)\n",
    "    files = os.listdir(dirc)\n",
    "    files = sorted(files)\n",
    "    files = files[:-1]\n",
    "    sp = int(len(files)/2)\n",
    "    print(sp)\n",
    "    sp1 = d+'_1'\n",
    "    sp2 = d+'_2'\n",
    "    dir1 = os.path.join(path,sp1)\n",
    "    dir2 = os.path.join(path,sp2)\n",
    "    print(dirc)\n",
    "    print(dir1)\n",
    "    print(dir2)\n",
    "    \n",
    "    os.makedirs(dir1, exist_ok=True)\n",
    "    os.makedirs(dir2, exist_ok=True)\n",
    "    \n",
    "    sp_files1 = files[:-sp]\n",
    "    sp_files2 = files[-sp:]\n",
    "    for f in sp_files1:\n",
    "        src = os.path.join(dirc,f)\n",
    "        des = os.path.join(dir1,f)\n",
    "        shutil.copyfile(src, des)\n",
    "\n",
    "    for f in sp_files2:\n",
    "        src = os.path.join(dirc,f)\n",
    "        des = os.path.join(dir2,f)\n",
    "        shutil.copyfile(src, des)\n",
    "    \n",
    "    '''\n",
    "    for f in files:\n",
    "        pos = np.asarray([int(f.split('.')[0].split('_')[0]), int(f.split('.')[0].split('_')[1])])\n",
    "        print(pos)\n",
    "    '''"
   ]
  },
  {
   "cell_type": "code",
   "execution_count": 31,
   "id": "b857be48",
   "metadata": {},
   "outputs": [
    {
     "name": "stdout",
     "output_type": "stream",
     "text": [
      "(7424, 13472, 3)\n",
      "(7424, 15232, 3)\n"
     ]
    }
   ],
   "source": [
    "import os\n",
    "import numpy as np\n",
    "import shutil\n",
    "from PIL import Image\n",
    "\n",
    "Image.MAX_IMAGE_PIXELS = None\n",
    "\n",
    "path = '/data3/ian/dsmil-wsi/dsmil-wsi/split/postprocess'\n",
    "merge = '/data3/ian/dsmil-wsi/dsmil-wsi/split/merge'\n",
    "files = os.listdir(path)\n",
    "files = sorted(files)\n",
    "files = [[files[0],files[1]],[files[2],files[3]]]\n",
    "#print(files)\n",
    "for f in files:\n",
    "    file_name = f[0][:-6] + '.png'\n",
    "    f1 = os.path.join(path, f[0])\n",
    "    img1 = Image.open(f1)\n",
    "    img1 = np.array(img1)\n",
    "    \n",
    "    f2 = os.path.join(path, f[1])\n",
    "    img2 = Image.open(f2)\n",
    "    img2 = np.array(img2)   \n",
    "    img = img1+img2\n",
    "    img = Image.fromarray(img)\n",
    "    \n",
    "    finish = os.path.join(merge, file_name)\n",
    "    print(np.shape(img))\n",
    "    #print(finish.size)\n",
    "    #img.save(finish)\n",
    "    \n",
    "    \n",
    "    \n",
    "    "
   ]
  },
  {
   "cell_type": "code",
   "execution_count": 191,
   "id": "8d5e1603",
   "metadata": {},
   "outputs": [
    {
     "name": "stdout",
     "output_type": "stream",
     "text": [
      "48\n",
      "['1', '2', '4', '8', '10', '11', '13', '16', '21', '26', '27', '29', '30', '33', '38', '40', '46', '48', '51', '52', '61', '64', '65', '66', '68', '69', '71', '73', '74', '75', '79', '82', '84', '90', '92', '94', '97', '99', '102', '104', '105', '108', '110', '113', '116', '117', '121', '122']\n",
      "[0.8382729654935959, 0.7960350632764426, 0.11886457717327026, 0.5306994127068874, 0.009770641377947807, 0, 0.025405405405405406, 0.9433961141936094, 0.9550775073454768, 0.7988758540117691, 0.9031046119235095, 0.3479538300104932, 0.3417636713843062, 0.025902408632368732, 0.10495662569352911, 0.8094068733820853, 0.24223034734917734, 0.3850601952791734, 0.5231231439834674, 0.017625141746314597, 0.6293790770717564, 0.6198573779484366, 0.2031236055332441, 0.2187629150020664, 0.8374138752870823, 0.2028291282618846, 0.9089803011165701, 0.9188339346832615, 0.07570431504406745, 0.7632251327512275, 0.44998183045216217, 0.5490115321252059, 0.28707865168539326, 0.8764657965470549, 0.8632139354597674, 0.816849731517827, 0.39467592592592593, 0.003010000970968055, 0.6024359207416833, 0.8311740735045363, 0.9374303126508385, 0.7583856884250878, 0.04784856717202699, 0.7869712001052065, 0.14867762687634023, 0.39830866807610993, 0.7799985807886085, 0.4673854768570918]\n",
      "[0.8276920583622904, 0.7930246704967895, 0.35914702581369246, 0.7260757112626381, 0.25380710659898476, 0, 0.18181818181818182, 0.9404450424858588, 0.9488166785947102, 0.8239385458645638, 0.8775662640317555, 0.4821213338690237, 0.3866246840214644, 0.55154771041187, 0.2842232783524369, 0.7868984054475421, 0.40051568543188654, 0.41217298451681794, 0.5300965564877038, 0.032297273832262545, 0.6456423267904674, 0.6260623229461756, 0.41025641025641024, 0.4447494852436513, 0.8547331731071711, 0.6838693897517427, 0.9093427505736252, 0.9151840466368284, 0.29129540781357094, 0.784005988719524, 0.4453974389949263, 0.5788106685835577, 0.329121278140886, 0.8697114185332533, 0.8553756594506094, 0.8215982673650246, 0.5966754155730534, 0.05562130177514793, 0.5512269938650307, 0.8603739359641747, 0.8583509836413327, 0.7628105186571043, 0.3259579060982191, 0.8053947664484989, 0.3741794310722101, 0.5945241199478487, 0.7628771715940262, 0.5123291171585537]\n"
     ]
    }
   ],
   "source": [
    "import os\n",
    "import json\n",
    "#path = '/data3/ian/dsmil-wsi/dsmil-wsi/vit_02192023_1_14ep.json'\n",
    "origin = '/data3/ian/dsmil-wsi/dsmil-wsi/origin-result-corr/score.json'\n",
    "ours = '/data3/ian/dsmil-wsi/dsmil-wsi/vit09/score.json'\n",
    "\n",
    "x = []\n",
    "x2 = []\n",
    "\n",
    "fp = open(origin,'r')\n",
    "origin_data = json.load(fp)\n",
    "\n",
    "fp = open(ours,'r')\n",
    "our_data = json.load(fp)\n",
    "print(len(our_data))\n",
    "\n",
    "for i in range(len(our_data)):\n",
    "    x.append(((i+1)*5)-0.75)\n",
    "    x2.append(((i+1)*5)+1.5)\n",
    "    \n",
    "origin_data = sorted(origin_data.items())\n",
    "our_data = sorted(our_data.items())\n",
    "\n",
    "name = []\n",
    "origin_score = []\n",
    "our_score = []\n",
    "\n",
    "for i in range(len(origin_data)):\n",
    "    assert(our_data[i][0] == origin_data[i][0])\n",
    "    n = our_data[i][0][5:-4].lstrip(\"0\")\n",
    "    name.append(n)\n",
    "    origin_score.append(origin_data[i][1])\n",
    "    our_score.append(our_data[i][1])\n",
    "    \n",
    "print(name)\n",
    "print(origin_score)\n",
    "print(our_score)"
   ]
  },
  {
   "cell_type": "code",
   "execution_count": 192,
   "id": "7dd0d701",
   "metadata": {
    "scrolled": true
   },
   "outputs": [
    {
     "name": "stdout",
     "output_type": "stream",
     "text": [
      "['2', '4', '8', '10', '11', '13', '29', '30', '33', '38', '46', '48', '52', '61', '64', '65', '66', '69', '74', '79', '84', '92', '97', '99', '102', '104', '110', '116', '117', '121', '122']\n",
      "31\n"
     ]
    }
   ],
   "source": [
    "new_name = name[1:7]\n",
    "new_name.extend(name[11:15])\n",
    "new_name.extend(name[16:18])\n",
    "new_name.extend(name[19:24])\n",
    "new_name.extend(name[25:26])\n",
    "new_name.extend(name[28:29])\n",
    "new_name.extend(name[30:31])\n",
    "new_name.extend(name[32:33])\n",
    "new_name.extend(name[34:35])\n",
    "new_name.extend(name[36:40])\n",
    "new_name.extend(name[42:43])\n",
    "new_name.extend(name[44:])\n",
    "print(new_name)\n",
    "\n",
    "new_origin = origin_score[1:7]\n",
    "new_origin.extend(origin_score[11:15])\n",
    "new_origin.extend(origin_score[16:18])\n",
    "new_origin.extend(origin_score[19:24])\n",
    "new_origin.extend(origin_score[25:26])\n",
    "new_origin.extend(origin_score[28:29])\n",
    "new_origin.extend(origin_score[30:31])\n",
    "new_origin.extend(origin_score[32:33])\n",
    "new_origin.extend(origin_score[34:35])\n",
    "new_origin.extend(origin_score[36:40])\n",
    "new_origin.extend(origin_score[42:43])\n",
    "new_origin.extend(origin_score[44:])\n",
    "\n",
    "new_ours = our_score[1:7]\n",
    "new_ours.extend(our_score[11:15])\n",
    "new_ours.extend(our_score[16:18])\n",
    "new_ours.extend(our_score[19:24])\n",
    "new_ours.extend(our_score[25:26])\n",
    "new_ours.extend(our_score[28:29])\n",
    "new_ours.extend(our_score[30:31])\n",
    "new_ours.extend(our_score[32:33])\n",
    "new_ours.extend(our_score[34:35])\n",
    "new_ours.extend(our_score[36:40])\n",
    "new_ours.extend(our_score[42:43])\n",
    "new_ours.extend(our_score[44:])\n",
    "#origin_score\n",
    "#our_score\n",
    "print(len(new_ours))"
   ]
  },
  {
   "cell_type": "code",
   "execution_count": 193,
   "id": "a90b8658",
   "metadata": {},
   "outputs": [
    {
     "data": {
      "image/png": "[encoded data removed]",
      "text/plain": [
       "<Figure size 2000x300 with 1 Axes>"
      ]
     },
     "metadata": {},
     "output_type": "display_data"
    }
   ],
   "source": [
    "import matplotlib.pyplot as plt\n",
    "from matplotlib.pyplot import MultipleLocator\n",
    "import numpy as np\n",
    "plt.figure(figsize=(20,3))\n",
    "x = x[:-17]\n",
    "x2 = x2[:-17]\n",
    "\n",
    "x_mean = np.mean([x,x2], axis=0)\n",
    "\n",
    "x_major_locator = MultipleLocator(10)\n",
    "ax = plt.gca()\n",
    "ax.xaxis.set_major_locator(x_major_locator)\n",
    "\n",
    "plt.bar(x,new_origin,color='b',width=1.5, align='edge', label = 'DSMIL')  # 第一組數據靠左邊緣對齊\n",
    "plt.bar(x2,new_ours,color='orange',width=1.5, label = 'Ours')  \n",
    "# 第二組數據置中對齊\n",
    "plt.legend(loc='lower left', title='Model', fontsize = 'small')\n",
    "plt.xticks(ticks = x_mean, labels=new_name)\n",
    "plt.ylabel('Dice')\n",
    "plt.xlabel('WSI')\n",
    "plt.tight_layout()\n",
    "plt.savefig('/data3/ian/plot.png')\n",
    "plt.show()\n"
   ]
  },
  {
   "cell_type": "code",
   "execution_count": 151,
   "id": "5de0bf5e",
   "metadata": {},
   "outputs": [],
   "source": [
    "for i in range(len(x)):\n",
    "    assert(x2[i]-x[i] == 0.75)\n"
   ]
  }
 ],
 "metadata": {
  "kernelspec": {
   "display_name": "Python 3 (ipykernel)",
   "language": "python",
   "name": "python3"
  },
  "language_info": {
   "codemirror_mode": {
    "name": "ipython",
    "version": 3
   },
   "file_extension": ".py",
   "mimetype": "text/x-python",
   "name": "python",
   "nbconvert_exporter": "python",
   "pygments_lexer": "ipython3",
   "version": "3.8.13"
  }
 },
 "nbformat": 4,
 "nbformat_minor": 5
}
