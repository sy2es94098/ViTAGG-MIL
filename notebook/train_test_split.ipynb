{
 "cells": [
  {
   "cell_type": "code",
   "execution_count": 2,
   "id": "37478a2c",
   "metadata": {},
   "outputs": [
    {
     "name": "stdout",
     "output_type": "stream",
     "text": [
      "1052\n",
      "841\n",
      "211\n"
     ]
    }
   ],
   "source": [
    "import csv\n",
    "import random\n",
    "#原TCGA改名為TCGA_single\n",
    "target_file = '/data3/ian/dsmil-wsi/dsmil-wsi/datasets/TCGA_ms_fusion_with_pos/TCGA_ms_fusion_with_pos.csv'\n",
    "data = []\n",
    "train_file = '/data3/ian/dsmil-wsi/dsmil-wsi/datasets/TCGA_ms_fusion_with_pos_train/TCGA_ms_fusion_with_pos_train.csv'\n",
    "test_file = '/data3/ian/dsmil-wsi/dsmil-wsi/datasets/TCGA_ms_fusion_with_pos_test/TCGA_ms_fusion_with_pos_test.csv'\n",
    "with open(target_file) as csvfile:\n",
    "    rows = csv.reader(csvfile)\n",
    "    for row in rows:\n",
    "        data.append(row)\n",
    "        \n",
    "first_row = data[0]\n",
    "data = data[1:]\n",
    "random.shuffle(data)\n",
    "sp_idx = int(len(data)*0.8)\n",
    "\n",
    "train = data[:sp_idx]\n",
    "test = data[sp_idx:]\n",
    "\n",
    "with open(train_file, 'w') as csvfile:\n",
    "    writer = csv.writer(csvfile)\n",
    "\n",
    "    writer.writerow(first_row)\n",
    "    for d in train:\n",
    "        writer.writerow(d)\n",
    "        \n",
    "with open(test_file, 'w') as csvfile:\n",
    "    writer = csv.writer(csvfile)\n",
    "\n",
    "    writer.writerow(first_row)\n",
    "    for d in test:\n",
    "        writer.writerow(d)\n",
    "\n",
    "print(len(data))\n",
    "print(len(train))\n",
    "print(len(test))\n"
   ]
  }
 ],
 "metadata": {
  "kernelspec": {
   "display_name": "Python 3 (ipykernel)",
   "language": "python",
   "name": "python3"
  },
  "language_info": {
   "codemirror_mode": {
    "name": "ipython",
    "version": 3
   },
   "file_extension": ".py",
   "mimetype": "text/x-python",
   "name": "python",
   "nbconvert_exporter": "python",
   "pygments_lexer": "ipython3",
   "version": "3.8.13"
  }
 },
 "nbformat": 4,
 "nbformat_minor": 5
}
