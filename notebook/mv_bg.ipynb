{
 "cells": [
  {
   "cell_type": "code",
   "execution_count": null,
   "id": "656ba482",
   "metadata": {},
   "outputs": [],
   "source": [
    "import os\n",
    "path = '/data3/ian/dsmil-wsi/dsmil-wsi/test_patches/patches'\n",
    "\n",
    "dir_list = os.listdir(path)\n",
    "for d in dir_list:\n",
    "    dir_path = os.path.join(path,d)\n",
    "    print(dir_path)"
   ]
  }
 ],
 "metadata": {
  "kernelspec": {
   "display_name": "Python 3 (ipykernel)",
   "language": "python",
   "name": "python3"
  },
  "language_info": {
   "codemirror_mode": {
    "name": "ipython",
    "version": 3
   },
   "file_extension": ".py",
   "mimetype": "text/x-python",
   "name": "python",
   "nbconvert_exporter": "python",
   "pygments_lexer": "ipython3",
   "version": "3.8.13"
  }
 },
 "nbformat": 4,
 "nbformat_minor": 5
}
